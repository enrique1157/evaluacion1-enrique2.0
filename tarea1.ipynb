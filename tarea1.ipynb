{
 "cells": [
  {
   "cell_type": "code",
   "execution_count": 1,
   "id": "43259049",
   "metadata": {},
   "outputs": [],
   "source": [
    "import os, pandas as pd\n",
    "co2totalLINK='https://github.com/enrique1157/evaluacion1-enrique2.0/raw/main/datausada/Co2kgy1000-variable.csv'\n",
    "percapitaGDPLINK='https://github.com/enrique1157/evaluacion1-enrique2.0/raw/main/datausada/percapita-variable.csv'\n",
    "globalhealthLINK='https://github.com/enrique1157/evaluacion1-enrique2.0/raw/main/datausada/Gov.HealthExp_-variable.csv'\n",
    "\n",
    "co2=pd.read_csv(co2totalLINK)\n",
    "percapita=pd.read_csv(percapitaGDPLINK)\n",
    "health=pd.read_csv(globalhealthLINK)"
   ]
  },
  {
   "cell_type": "code",
   "execution_count": 2,
   "id": "8ce9e30c",
   "metadata": {},
   "outputs": [
    {
     "data": {
      "text/plain": [
       "((184, 2), (193, 2), (192, 2))"
      ]
     },
     "execution_count": 2,
     "metadata": {},
     "output_type": "execute_result"
    }
   ],
   "source": [
    "co2.shape,percapita.shape,health.shape"
   ]
  },
  {
   "cell_type": "code",
   "execution_count": 3,
   "id": "e2621bb4",
   "metadata": {},
   "outputs": [
    {
     "data": {
      "text/plain": [
       "(Index(['Countries', 'CO2Kg/1000'], dtype='object'),\n",
       " Index(['Countries', 'GDP per capita'], dtype='object'),\n",
       " Index(['Countries', 'Gov.HealthExp%'], dtype='object'))"
      ]
     },
     "execution_count": 3,
     "metadata": {},
     "output_type": "execute_result"
    }
   ],
   "source": [
    "co2.columns,percapita.columns,health.columns"
   ]
  },
  {
   "cell_type": "code",
   "execution_count": 4,
   "id": "f4230271",
   "metadata": {},
   "outputs": [
    {
     "data": {
      "text/plain": [
       "(182, 3)"
      ]
     },
     "execution_count": 4,
     "metadata": {},
     "output_type": "execute_result"
    }
   ],
   "source": [
    "#merge1=co2.merge(percapita,how='inner',left_on='Countries',right_on='Countries').shape\n",
    "#merge1"
   ]
  },
  {
   "cell_type": "code",
   "execution_count": 6,
   "id": "2c07165c",
   "metadata": {},
   "outputs": [
    {
     "data": {
      "text/html": [
       "<div>\n",
       "<style scoped>\n",
       "    .dataframe tbody tr th:only-of-type {\n",
       "        vertical-align: middle;\n",
       "    }\n",
       "\n",
       "    .dataframe tbody tr th {\n",
       "        vertical-align: top;\n",
       "    }\n",
       "\n",
       "    .dataframe thead th {\n",
       "        text-align: right;\n",
       "    }\n",
       "</style>\n",
       "<table border=\"1\" class=\"dataframe\">\n",
       "  <thead>\n",
       "    <tr style=\"text-align: right;\">\n",
       "      <th></th>\n",
       "      <th>Countries</th>\n",
       "      <th>CO2Kg/1000</th>\n",
       "      <th>GDP per capita</th>\n",
       "      <th>Gov.HealthExp%</th>\n",
       "    </tr>\n",
       "  </thead>\n",
       "  <tbody>\n",
       "    <tr>\n",
       "      <th>0</th>\n",
       "      <td>United States [+]</td>\n",
       "      <td>0.23</td>\n",
       "      <td>$77,469</td>\n",
       "      <td>84.77%</td>\n",
       "    </tr>\n",
       "    <tr>\n",
       "      <th>1</th>\n",
       "      <td>United Kingdom [+]</td>\n",
       "      <td>0.11</td>\n",
       "      <td>$45,775</td>\n",
       "      <td>81.55%</td>\n",
       "    </tr>\n",
       "    <tr>\n",
       "      <th>2</th>\n",
       "      <td>Germany [+]</td>\n",
       "      <td>0.15</td>\n",
       "      <td>$48,636</td>\n",
       "      <td>86.50%</td>\n",
       "    </tr>\n",
       "    <tr>\n",
       "      <th>3</th>\n",
       "      <td>France [+]</td>\n",
       "      <td>0.10</td>\n",
       "      <td>$40,883</td>\n",
       "      <td>84.56%</td>\n",
       "    </tr>\n",
       "    <tr>\n",
       "      <th>4</th>\n",
       "      <td>Japan [+]</td>\n",
       "      <td>0.21</td>\n",
       "      <td>$33,731</td>\n",
       "      <td>85.54%</td>\n",
       "    </tr>\n",
       "    <tr>\n",
       "      <th>...</th>\n",
       "      <td>...</td>\n",
       "      <td>...</td>\n",
       "      <td>...</td>\n",
       "      <td>...</td>\n",
       "    </tr>\n",
       "    <tr>\n",
       "      <th>177</th>\n",
       "      <td>Samoa [+]</td>\n",
       "      <td>0.31</td>\n",
       "      <td>$4,160</td>\n",
       "      <td>74.55%</td>\n",
       "    </tr>\n",
       "    <tr>\n",
       "      <th>178</th>\n",
       "      <td>Yemen [+]</td>\n",
       "      <td>0.10</td>\n",
       "      <td>$645</td>\n",
       "      <td>10.18%</td>\n",
       "    </tr>\n",
       "    <tr>\n",
       "      <th>179</th>\n",
       "      <td>South Africa [+]</td>\n",
       "      <td>0.55</td>\n",
       "      <td>$6,694</td>\n",
       "      <td>50.94%</td>\n",
       "    </tr>\n",
       "    <tr>\n",
       "      <th>180</th>\n",
       "      <td>Zambia [+]</td>\n",
       "      <td>0.11</td>\n",
       "      <td>$1,530</td>\n",
       "      <td>38.63%</td>\n",
       "    </tr>\n",
       "    <tr>\n",
       "      <th>181</th>\n",
       "      <td>Zimbabwe [+]</td>\n",
       "      <td>0.23</td>\n",
       "      <td>$585,276</td>\n",
       "      <td>51.62%</td>\n",
       "    </tr>\n",
       "  </tbody>\n",
       "</table>\n",
       "<p>182 rows × 4 columns</p>\n",
       "</div>"
      ],
      "text/plain": [
       "              Countries  CO2Kg/1000 GDP per capita Gov.HealthExp%\n",
       "0     United States [+]        0.23        $77,469         84.77%\n",
       "1    United Kingdom [+]        0.11        $45,775         81.55%\n",
       "2           Germany [+]        0.15        $48,636         86.50%\n",
       "3            France [+]        0.10        $40,883         84.56%\n",
       "4             Japan [+]        0.21        $33,731         85.54%\n",
       "..                  ...         ...            ...            ...\n",
       "177           Samoa [+]        0.31         $4,160         74.55%\n",
       "178           Yemen [+]        0.10           $645         10.18%\n",
       "179    South Africa [+]        0.55         $6,694         50.94%\n",
       "180          Zambia [+]        0.11         $1,530         38.63%\n",
       "181        Zimbabwe [+]        0.23       $585,276         51.62%\n",
       "\n",
       "[182 rows x 4 columns]"
      ]
     },
     "execution_count": 6,
     "metadata": {},
     "output_type": "execute_result"
    }
   ],
   "source": [
    "#PARA HACER EL MERGE CON LAS 3 DATAS SELECCIONADAS DE LAS FUENTES\n",
    "merge1=co2.merge(percapita,how='inner',left_on='Countries',right_on='Countries').merge(health,how='inner',left_on='Countries',right_on='Countries')\n",
    "merge1"
   ]
  },
  {
   "cell_type": "code",
   "execution_count": 11,
   "id": "5823130c",
   "metadata": {},
   "outputs": [
    {
     "data": {
      "text/plain": [
       "(182, 4)"
      ]
     },
     "execution_count": 11,
     "metadata": {},
     "output_type": "execute_result"
    }
   ],
   "source": [
    "merge1.shape"
   ]
  },
  {
   "cell_type": "code",
   "execution_count": 12,
   "id": "c8262d8d",
   "metadata": {},
   "outputs": [
    {
     "data": {
      "text/html": [
       "<div>\n",
       "<style scoped>\n",
       "    .dataframe tbody tr th:only-of-type {\n",
       "        vertical-align: middle;\n",
       "    }\n",
       "\n",
       "    .dataframe tbody tr th {\n",
       "        vertical-align: top;\n",
       "    }\n",
       "\n",
       "    .dataframe thead th {\n",
       "        text-align: right;\n",
       "    }\n",
       "</style>\n",
       "<table border=\"1\" class=\"dataframe\">\n",
       "  <thead>\n",
       "    <tr style=\"text-align: right;\">\n",
       "      <th></th>\n",
       "      <th>Country</th>\n",
       "      <th>CO2Kg/1000</th>\n",
       "      <th>GDP per capita</th>\n",
       "      <th>Gov.HealthExp%</th>\n",
       "    </tr>\n",
       "  </thead>\n",
       "  <tbody>\n",
       "    <tr>\n",
       "      <th>0</th>\n",
       "      <td>United States [+]</td>\n",
       "      <td>0.23</td>\n",
       "      <td>$77,469</td>\n",
       "      <td>84.77%</td>\n",
       "    </tr>\n",
       "    <tr>\n",
       "      <th>1</th>\n",
       "      <td>United Kingdom [+]</td>\n",
       "      <td>0.11</td>\n",
       "      <td>$45,775</td>\n",
       "      <td>81.55%</td>\n",
       "    </tr>\n",
       "    <tr>\n",
       "      <th>2</th>\n",
       "      <td>Germany [+]</td>\n",
       "      <td>0.15</td>\n",
       "      <td>$48,636</td>\n",
       "      <td>86.50%</td>\n",
       "    </tr>\n",
       "    <tr>\n",
       "      <th>3</th>\n",
       "      <td>France [+]</td>\n",
       "      <td>0.10</td>\n",
       "      <td>$40,883</td>\n",
       "      <td>84.56%</td>\n",
       "    </tr>\n",
       "    <tr>\n",
       "      <th>4</th>\n",
       "      <td>Japan [+]</td>\n",
       "      <td>0.21</td>\n",
       "      <td>$33,731</td>\n",
       "      <td>85.54%</td>\n",
       "    </tr>\n",
       "    <tr>\n",
       "      <th>...</th>\n",
       "      <td>...</td>\n",
       "      <td>...</td>\n",
       "      <td>...</td>\n",
       "      <td>...</td>\n",
       "    </tr>\n",
       "    <tr>\n",
       "      <th>177</th>\n",
       "      <td>Samoa [+]</td>\n",
       "      <td>0.31</td>\n",
       "      <td>$4,160</td>\n",
       "      <td>74.55%</td>\n",
       "    </tr>\n",
       "    <tr>\n",
       "      <th>178</th>\n",
       "      <td>Yemen [+]</td>\n",
       "      <td>0.10</td>\n",
       "      <td>$645</td>\n",
       "      <td>10.18%</td>\n",
       "    </tr>\n",
       "    <tr>\n",
       "      <th>179</th>\n",
       "      <td>South Africa [+]</td>\n",
       "      <td>0.55</td>\n",
       "      <td>$6,694</td>\n",
       "      <td>50.94%</td>\n",
       "    </tr>\n",
       "    <tr>\n",
       "      <th>180</th>\n",
       "      <td>Zambia [+]</td>\n",
       "      <td>0.11</td>\n",
       "      <td>$1,530</td>\n",
       "      <td>38.63%</td>\n",
       "    </tr>\n",
       "    <tr>\n",
       "      <th>181</th>\n",
       "      <td>Zimbabwe [+]</td>\n",
       "      <td>0.23</td>\n",
       "      <td>$585,276</td>\n",
       "      <td>51.62%</td>\n",
       "    </tr>\n",
       "  </tbody>\n",
       "</table>\n",
       "<p>182 rows × 4 columns</p>\n",
       "</div>"
      ],
      "text/plain": [
       "                Country  CO2Kg/1000 GDP per capita Gov.HealthExp%\n",
       "0     United States [+]        0.23        $77,469         84.77%\n",
       "1    United Kingdom [+]        0.11        $45,775         81.55%\n",
       "2           Germany [+]        0.15        $48,636         86.50%\n",
       "3            France [+]        0.10        $40,883         84.56%\n",
       "4             Japan [+]        0.21        $33,731         85.54%\n",
       "..                  ...         ...            ...            ...\n",
       "177           Samoa [+]        0.31         $4,160         74.55%\n",
       "178           Yemen [+]        0.10           $645         10.18%\n",
       "179    South Africa [+]        0.55         $6,694         50.94%\n",
       "180          Zambia [+]        0.11         $1,530         38.63%\n",
       "181        Zimbabwe [+]        0.23       $585,276         51.62%\n",
       "\n",
       "[182 rows x 4 columns]"
      ]
     },
     "execution_count": 12,
     "metadata": {},
     "output_type": "execute_result"
    }
   ],
   "source": [
    "#CAMBIAR EL NOMBRE COUNTRIES POR COUNTRY PARA PODER HACER EL SEGUNDO MERGE\n",
    "merge1=merge1.rename(columns={\"Countries\":\"Country\"})\n",
    "merge1\n"
   ]
  },
  {
   "cell_type": "code",
   "execution_count": 10,
   "id": "0509be4c",
   "metadata": {},
   "outputs": [],
   "source": [
    "#PASAMOS AL ARCHIVO COUNTRY DEL PROFESOR\n",
    "import os, pandas as pd\n"
   ]
  },
  {
   "cell_type": "code",
   "execution_count": null,
   "id": "f7883468",
   "metadata": {},
   "outputs": [],
   "source": []
  },
  {
   "cell_type": "code",
   "execution_count": null,
   "id": "3a977a1d",
   "metadata": {},
   "outputs": [],
   "source": []
  },
  {
   "cell_type": "code",
   "execution_count": 9,
   "id": "7fee8b53",
   "metadata": {},
   "outputs": [],
   "source": []
  },
  {
   "cell_type": "code",
   "execution_count": null,
   "id": "9f9706d8",
   "metadata": {},
   "outputs": [],
   "source": []
  },
  {
   "cell_type": "code",
   "execution_count": null,
   "id": "971ccaf6",
   "metadata": {},
   "outputs": [],
   "source": []
  }
 ],
 "metadata": {
  "kernelspec": {
   "display_name": "Python 3 (ipykernel)",
   "language": "python",
   "name": "python3"
  },
  "language_info": {
   "codemirror_mode": {
    "name": "ipython",
    "version": 3
   },
   "file_extension": ".py",
   "mimetype": "text/x-python",
   "name": "python",
   "nbconvert_exporter": "python",
   "pygments_lexer": "ipython3",
   "version": "3.11.4"
  }
 },
 "nbformat": 4,
 "nbformat_minor": 5
}
